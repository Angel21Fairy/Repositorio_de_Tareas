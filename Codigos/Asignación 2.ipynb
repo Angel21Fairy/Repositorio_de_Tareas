{
  "nbformat": 4,
  "nbformat_minor": 0,
  "metadata": {
    "colab": {
      "name": "Untitled7.ipynb",
      "provenance": [],
      "collapsed_sections": []
    },
    "kernelspec": {
      "name": "python3",
      "display_name": "Python 3"
    },
    "language_info": {
      "name": "python"
    }
  },
  "cells": [
    {
      "cell_type": "code",
      "metadata": {
        "id": "ITszaHqQPNqi"
      },
      "source": [
        "import numpy as np\n",
        "import pandas as pd \n",
        "import matplotlib.pyplot as plt\n",
        "from datetime import timedelta"
      ],
      "execution_count": 625,
      "outputs": []
    },
    {
      "cell_type": "markdown",
      "metadata": {
        "id": "_yI_ow4RPfVV"
      },
      "source": [
        "Asignación 2\n",
        "\n",
        "Nathalia Alexandra Perez Rojas \n",
        "\n",
        "2200023"
      ]
    },
    {
      "cell_type": "markdown",
      "metadata": {
        "id": "sDLk98OtR3Qt"
      },
      "source": [
        "Pm25 esta medido en ug/m3\n",
        "\n",
        "Los intervalos se definieron como: $a_{i}$ + $Δ(x)$ = $b_{i}$\n",
        "\n",
        "$a_{i}$=00:00 am \n",
        "\n",
        "$\\Delta(x)$= 4 horas\n",
        "\n",
        "$b_{i}$ = 4:00 am\n",
        "\n",
        "La tolerancia aceptable en de 20%\n"
      ]
    },
    {
      "cell_type": "markdown",
      "metadata": {
        "id": "lMJTJv54h4Nz"
      },
      "source": [
        "Lo primero es crear los vectores con los valores dados en excel, seguido de esto, calcular la distancia entre ellos."
      ]
    },
    {
      "cell_type": "code",
      "metadata": {
        "id": "0usGVuDfV-ZT"
      },
      "source": [
        "nov = pd.read_excel('SEPTIEMBRE 2018.xlsx', usecols=(\"A:B\"))\n",
        "novt=pd.read_excel('noviembre 2018 teori.xlsx', usecols=(\"A:AM\"))\n",
        "\n",
        "\n",
        "dic = pd.read_excel('DICIEMBRE 2018 EXP.xlsx',usecols=(\"A:B\"))\n",
        "dicte = pd.read_excel('Diciembre 2018 teor.xlsx',usecols=(\"A:B\"))\n",
        "\n",
        "abr = pd.read_excel('abril 2019.xlsx',usecols=(\"A:B\"))\n",
        "abrt = pd.read_excel('Abrin teo.xlsx',usecols=(\"A:B\"))\n",
        "\n",
        "\n",
        "junio = pd.read_excel('JUNIO 2019.xlsx',usecols=(\"A:B\"))\n",
        "jnt = pd.read_excel('juniot.xlsx',usecols=(\"A:B\"))\n",
        "\n",
        "julio= pd.read_excel('julio 2019 teo.xlsx',usecols=(\"A:B\"))\n",
        "julioex= pd.read_excel('julio exp 2019.xlsx',usecols=(\"A:B\"))"
      ],
      "execution_count": 626,
      "outputs": []
    },
    {
      "cell_type": "code",
      "metadata": {
        "id": "zmnpHTJSTFPZ"
      },
      "source": [
        "x1 = np.array(nov['valor'])"
      ],
      "execution_count": 627,
      "outputs": []
    },
    {
      "cell_type": "code",
      "metadata": {
        "id": "es__dsluTb-C"
      },
      "source": [
        "x2 = np.array(novt['valor'])"
      ],
      "execution_count": 628,
      "outputs": []
    },
    {
      "cell_type": "code",
      "metadata": {
        "id": "o393Hemya3Ub",
        "colab": {
          "base_uri": "https://localhost:8080/"
        },
        "outputId": "a45f6c08-d39e-42f8-8c2b-d8692af2cce5"
      },
      "source": [
        "X = np.sqrt((x2-x1)**2)\n",
        "print(X)"
      ],
      "execution_count": 629,
      "outputs": [
        {
          "output_type": "stream",
          "name": "stdout",
          "text": [
            "[ 2.4428566   4.72857075  8.0714283   0.4428566   3.5285717   3.78571415\n",
            "  0.75714245  3.6857151   5.6857132   0.7571434   1.55714245  3.48571415\n",
            "  1.18571415  3.75714245  4.77142868 11.0428566   9.4857132   8.3285717\n",
            "  0.70000095  5.4         2.74285755  0.87142925  6.78571415  0.08571415\n",
            "  0.04285707  3.31666663  7.95       14.91666666  4.25        1.55000048\n",
            "  2.53333302  0.31666651  0.2         1.9         2.7         0.73333397\n",
            "  4.20000048  2.73333397]\n"
          ]
        }
      ]
    },
    {
      "cell_type": "markdown",
      "metadata": {
        "id": "oYYVmnaFecuf"
      },
      "source": [
        "Los valores anteriores son las distancias que hay entre los valores teóricos y experimentales de $Pm_{25}$ en Noviembre de 2018"
      ]
    },
    {
      "cell_type": "code",
      "metadata": {
        "id": "_dhFHAl227Ld"
      },
      "source": [
        "d1 = np.array(dicte['valor'])"
      ],
      "execution_count": 630,
      "outputs": []
    },
    {
      "cell_type": "code",
      "metadata": {
        "id": "3H4N29ZZ3Eit"
      },
      "source": [
        "d2 = np.array(dic['valor'])"
      ],
      "execution_count": 631,
      "outputs": []
    },
    {
      "cell_type": "code",
      "metadata": {
        "id": "TIUc42j13LB2",
        "colab": {
          "base_uri": "https://localhost:8080/"
        },
        "outputId": "0c52ce74-4c7f-43e0-e9a9-1860a3575b25"
      },
      "source": [
        "d = np.sqrt((d1-d2)**2)\n",
        "print(d)"
      ],
      "execution_count": 632,
      "outputs": [
        {
          "output_type": "stream",
          "name": "stdout",
          "text": [
            "[1.37428572e+01 9.71427345e-01 1.74571415e+01 1.07428585e+01\n",
            " 1.47142735e+00 3.24285660e+00 5.91428490e+00 1.02857151e+01\n",
            " 8.15714340e+00 3.91428680e+00 1.37142830e+00 3.97143021e+00\n",
            " 8.85715103e-01 8.54285660e+00 2.48857132e+01 5.42858505e-01\n",
            " 5.71428299e-01 4.00000000e+00 2.17142830e+00 1.50571434e+01\n",
            " 2.60000000e+01 1.21428680e+00 3.22857170e+00 3.74285660e+00\n",
            " 2.01000038e+01 1.60000191e+00 2.32571434e+01 4.75714149e+00\n",
            " 8.12857170e+00 3.64285660e+00 3.89999809e+00 4.94285660e+00\n",
            " 1.35285698e+01 4.81428490e+00 7.35714149e+00 5.64285660e+00\n",
            " 4.30000095e+00 4.95714340e+00 1.77857170e+01 7.45714149e+00\n",
            " 2.04285660e+00 6.10000000e+00 3.00000095e+00 3.72857170e+00\n",
            " 1.65999981e+01 5.14285564e+00 5.57143402e-01 2.55714340e+00\n",
            " 0.00000000e+00 3.18571320e+00 1.23857132e+01 3.42857361e+00\n",
            " 3.31428490e+00 1.14142868e+01 7.42856598e-01 1.14285660e+00\n",
            " 4.82857170e+00 5.41428680e+00 1.04285755e+00 5.68571510e+00\n",
            " 5.71434021e-02 4.80000000e+00 4.72856979e+00 8.98571510e+00\n",
            " 4.45714340e+00 5.55714340e+00 1.42868042e-02 4.71428490e+00\n",
            " 7.84285660e+00 4.70000000e+00 1.15714149e+00 4.21428585e+00\n",
            " 1.88571415e+00 3.85714149e-01 8.50000000e+00 5.35714340e+00\n",
            " 1.64714283e+01 2.25714340e+00 2.00000000e-01 4.00000000e-01\n",
            " 1.87142925e+00 3.99999952e+00]\n"
          ]
        }
      ]
    },
    {
      "cell_type": "markdown",
      "metadata": {
        "id": "vtALWKAV5HUj"
      },
      "source": [
        "Los valores anteriores son las distancias que hay entre los valores teóricos y experimentales de $Pm_{25}$ en Diciembre de 2018"
      ]
    },
    {
      "cell_type": "code",
      "metadata": {
        "id": "p8VQPtgv5Sf0"
      },
      "source": [
        "a1 = np.array(abrt['valor'])"
      ],
      "execution_count": 633,
      "outputs": []
    },
    {
      "cell_type": "code",
      "metadata": {
        "id": "EEq-LhOfF5DU"
      },
      "source": [
        "a2 = np.array(abr['valor'])"
      ],
      "execution_count": 634,
      "outputs": []
    },
    {
      "cell_type": "code",
      "metadata": {
        "id": "YrxGQ79ZGoZP",
        "colab": {
          "base_uri": "https://localhost:8080/"
        },
        "outputId": "69cd7df5-0b7b-48a3-fbd5-8502b2f47f1b"
      },
      "source": [
        "a = np.sqrt((a1-a2)**2)\n",
        "print(a)"
      ],
      "execution_count": 635,
      "outputs": [
        {
          "output_type": "stream",
          "name": "stdout",
          "text": [
            "[ 4.65        5.13333397 11.66666412  3.28333397  9.31666746 18.75\n",
            "  2.11666698  2.91666603  1.04999905  6.35        5.11666603  2.38333349\n",
            "  4.31666651  1.63333302  2.58333349  3.4         1.29999952  2.06666603\n",
            "  1.          7.63333206  1.56666603  3.59999809  3.73333397 10.29999905\n",
            "  4.11666603  0.89999905  1.46666698  0.33333302  0.73333302 10.8\n",
            "  2.25        4.55        2.73333349  2.94999905  9.78333325  6.45000024\n",
            "  4.56666698  5.51666651  1.01666555 16.66666666  6.58333349  1.73333373\n",
            "  5.25        4.36666651  1.26666651  0.16666698  2.43333302  4.74999976\n",
            "  4.49166679  2.05        1.61666698  5.23333325  7.43333349  3.31666675\n",
            "  4.4166667   7.2         1.65        1.11666698  2.14999905  0.18333349\n",
            "  4.66666651  4.79999981 10.94166679 14.51666698 15.0666666   9.30833359\n",
            "  7.31666603  5.60000191  9.23333206  2.31666794 10.46666794  3.5\n",
            "  4.46666794  0.15        8.2        13.26666603  2.03333397  6.38333206\n",
            "  7.28333206 13.08333206  8.06666603 10.16666603  2.65        1.11666794\n",
            "  6.16666603  9.07500038  1.88333397  8.73333206  2.16666412  9.51666794\n",
            " 19.01666794  9.53333397  6.31666794 15.51666412  0.78333397  6.81666794\n",
            " 16.11666641 15.52500019]\n"
          ]
        }
      ]
    },
    {
      "cell_type": "markdown",
      "metadata": {
        "id": "ExyH1LbDJ8ZI"
      },
      "source": [
        "Los valores anteriores son las distancias que hay entre los valores teóricos y experimentales de $Pm_{25}$ en Abril de 2019"
      ]
    },
    {
      "cell_type": "code",
      "metadata": {
        "id": "SGAOYYhJKFpm"
      },
      "source": [
        "j1 = np.array(jnt['valor'])"
      ],
      "execution_count": 636,
      "outputs": []
    },
    {
      "cell_type": "code",
      "metadata": {
        "id": "6bwQ7lgGX0YH"
      },
      "source": [
        "j2=np.array(junio['valor'])"
      ],
      "execution_count": 637,
      "outputs": []
    },
    {
      "cell_type": "code",
      "metadata": {
        "id": "KtP569psX_D-",
        "colab": {
          "base_uri": "https://localhost:8080/"
        },
        "outputId": "939774c6-9e38-42c8-f192-12dd59de5cd5"
      },
      "source": [
        "J = np.sqrt((j1-j2)**2)\n",
        "print(J)"
      ],
      "execution_count": 638,
      "outputs": [
        {
          "output_type": "stream",
          "name": "stdout",
          "text": [
            "[3.5000000e+00 2.2800000e+00 1.1267000e+01 3.2100000e+00 8.6600000e-01\n",
            " 3.7830000e+00 1.6670000e+00 1.1660000e-01 1.1633400e+01 5.8340000e+00\n",
            " 2.4833000e+00 2.1333300e+00 7.8333000e-01 7.2834000e+00 1.2916700e+01\n",
            " 1.1066700e+01 1.9999000e+00 3.9666000e+00 5.0000000e-02 2.7166600e+00\n",
            " 2.9160000e+00 1.1166700e+01 3.5830000e+00 1.0333000e+00 4.4834000e+00\n",
            " 1.5001000e-01 5.7333300e+00 1.7000000e-02 1.0333300e+00 9.0000000e-01\n",
            " 3.1500000e+00 1.8500000e+00 4.4833330e+00 9.0000000e+00 5.6500000e+00\n",
            " 8.2500000e+00 3.7833340e+00 9.0166600e+00 6.3400000e-01 6.6500000e+00\n",
            " 9.1660000e-01 9.0000000e-01 7.1500000e+00 1.1840000e+00 8.5340000e+00\n",
            " 5.4167000e+00 5.3400000e-01 8.5000000e-01 9.0170000e+00 1.3660000e+00\n",
            " 8.1584000e+00 6.8600000e+00 1.0740000e+01 8.6500000e+00 5.1600000e+00\n",
            " 5.3000000e+00 1.9350000e+01 4.9330000e+00 6.9100000e+00 1.2166000e+00\n",
            " 9.0000000e-01 6.3840000e+00 6.9666700e+00 6.5000000e+00 2.8660000e+00\n",
            " 4.1333000e+00 2.2660000e+00 1.0283400e+01 2.4667000e+00 6.9340000e+00\n",
            " 3.8833300e+00 9.6670000e-01 2.4670000e+00 2.6667000e+00 7.2583400e+00\n",
            " 3.1660000e+00 4.4166700e+00 4.5000000e+00 1.5834000e+00 2.1750000e+01\n",
            " 8.0666700e+00 4.2000000e+00 2.6000000e+00 7.1600000e-01 1.2400000e+01\n",
            " 2.4833300e+00 3.3166000e+00 3.8334000e-01 4.4833300e+00 1.0000000e+00\n",
            " 8.2333000e+00 1.1791670e+01 5.2340000e+00 3.9166000e+00 7.4833000e+00\n",
            " 3.4000000e+00 8.8666679e+00 1.2633340e+01 1.0750000e+01 6.1100000e+00\n",
            " 8.6670000e-01 1.0830000e+00 2.3400000e-01 1.8949000e+01 1.6670000e+00\n",
            " 1.4000000e-01 3.0000000e-01 7.1916670e+00 1.0600000e+01 7.0660000e+00\n",
            " 7.4001000e+00 2.5500000e+00 1.2216670e+01 1.3100000e+00 8.0000000e-01\n",
            " 6.1083340e+00 9.2834000e+00 4.6001000e+00 3.1666000e+00 2.3330000e-01\n",
            " 3.7500000e+00 6.6660000e-02 7.0000000e-01 1.2333300e+00 4.2333000e+00\n",
            " 2.8400000e-01 1.6000000e+00 1.4666000e+00 3.0000000e-01 5.5500000e+00\n",
            " 4.6833335e+00 1.3333300e-01 4.1830000e+00 2.5833400e+00 6.8000000e+00\n",
            " 5.1583340e+00 9.8501000e+00 3.0000000e-01 2.3830000e+00 5.8666600e+00\n",
            " 4.0833000e+00 4.2333340e+00 2.2166000e+00 8.3340000e-01 3.6500000e+00\n",
            " 2.2500000e+00 4.7666700e+00 1.4500000e+00 1.8500000e+00 3.5001000e-01\n",
            " 3.8500000e+00 3.8000000e+00 2.0500000e+00 3.5666700e+00 4.8333300e-01\n",
            " 2.2000000e+00 3.6500000e+00 4.3170000e+00 9.8340000e-01 1.0167000e+00\n",
            " 6.9334000e+00 5.9833400e+00 1.6166670e+00 3.1748000e+00 1.6834000e+00\n",
            " 5.5666660e+00 6.3833400e+00 1.6333400e+00 4.3500000e+00 3.0833330e+00\n",
            " 1.2833330e+00 3.8333300e-01 1.6666000e-01]\n"
          ]
        }
      ]
    },
    {
      "cell_type": "markdown",
      "metadata": {
        "id": "N0bMNhW0Ycbd"
      },
      "source": [
        "Los valores anteriores son las distancias que hay entre los valores teóricos y experimentales de $Pm_{25}$ en Junio de 2019"
      ]
    },
    {
      "cell_type": "code",
      "metadata": {
        "id": "HlVBGBiD9m0N",
        "colab": {
          "base_uri": "https://localhost:8080/"
        },
        "outputId": "32e9e495-fcca-484e-9224-e3eb6b98d705"
      },
      "source": [
        "jl1 = np.array(julio['valor'])\n",
        "jl2 = np.array(julioex['valor'])\n",
        "Jl = np.sqrt((jl1-jl2)**2)\n",
        "print(Jl)"
      ],
      "execution_count": 639,
      "outputs": [
        {
          "output_type": "stream",
          "name": "stdout",
          "text": [
            "[1.53583400e+01 3.15000000e+00 4.51666700e+00 9.00000000e-01\n",
            " 4.65000000e+00 1.96660000e+00 6.16660000e+00 1.66600000e-01\n",
            " 6.50000000e-01 1.16666000e+00 3.55000000e+00 1.65000000e+00\n",
            " 5.93340000e+00 7.20000000e+00 2.95000000e+00 1.85000000e+00\n",
            " 5.85000000e+00 3.38340000e+00 5.35000000e+00 1.36700000e+00\n",
            " 2.21000000e+00 6.40000000e+00 4.70000000e+00 1.10000000e+01\n",
            " 6.10000000e+00 1.40000000e+00 3.33330154e-02 1.80000000e+00\n",
            " 3.60000000e+00 2.10000000e+00 2.16700000e+00 2.60000000e+00\n",
            " 6.50000000e-01 3.63300000e+00 3.63000000e+00 3.45000000e+00\n",
            " 2.59000000e+00 3.00000000e-01 9.37000000e+00 8.44000000e+00\n",
            " 4.19000000e+00 3.29000000e+00 1.31000000e+00 4.00000000e-02\n",
            " 1.45000000e+00 7.60000000e+00 6.50000000e+00 2.90000000e+00\n",
            " 3.19000000e+00 9.84000000e-01 4.15000000e+00 2.00000000e+00\n",
            " 6.80000000e+00 2.70000000e+00 2.40000000e+00 2.10000000e+00\n",
            " 3.60000000e+00 4.80000000e+00 3.50000000e+00 4.10000000e-01\n",
            " 4.80000000e+00 7.00000000e-01 2.09000000e+00 5.10000000e+00\n",
            " 3.10000000e+00 4.70000000e+00 4.00000000e-01 1.45000000e+00\n",
            " 1.80000000e+00 6.17000000e+00 5.80000000e+00 1.91000000e+01\n",
            " 4.10000000e+00 6.20000000e+00 8.15000000e+00 4.70000000e+00\n",
            " 3.80000000e+00 1.26500000e+01 1.53333397e+00 4.30000000e+00\n",
            " 3.13000000e+00 4.85000000e+00 4.60000000e+00 3.28300000e+00\n",
            " 4.48300000e+00 4.00000000e+00 4.00000000e+00 2.60000000e+00\n",
            " 3.60000000e+00 4.39000000e+00 3.40000000e+00 6.00000000e-01\n",
            " 1.06900000e+01 4.90000000e+00 9.00000000e-01 6.00000000e-01\n",
            " 6.49000000e+00 3.00000000e-02 4.90000000e+00 4.25000000e+00\n",
            " 7.30000000e+00 1.63000000e+00 1.09000000e+01 2.00000000e+00\n",
            " 9.90000000e+00 1.81000000e+00 7.47000000e+00 1.30000000e+01\n",
            " 1.03666000e+01 1.97000000e+00 2.15000000e+00 4.30000000e+00\n",
            " 1.90000000e+00 5.60000000e+00 1.32670000e+01 3.50000000e+00\n",
            " 1.03700000e+01 1.18333000e+01 3.60000000e+00 1.79000000e+01\n",
            " 2.45000000e+00 3.00000000e-01 1.24833400e+01 1.10000000e+00\n",
            " 2.03333397e+00 5.10000000e+00 1.31600000e+01 2.70000000e+00\n",
            " 6.40000000e+00 5.50000000e-01 6.60000000e-01 5.25000000e+00\n",
            " 4.30000000e-01 1.53000000e+00 6.70000000e+00 4.75000000e+00\n",
            " 5.09000000e+00 1.14500000e+01 3.60000000e+00 2.10000000e+00\n",
            " 3.30000000e+00 6.73333000e+00 2.86666700e+00 8.41670000e+00\n",
            " 3.03333000e+00 5.66670000e-01 8.00000000e-01 7.00000000e-01\n",
            " 1.83333300e-01 3.30000000e+00 1.80000000e+00 1.68400000e+00\n",
            " 1.33000000e-01 6.54000000e+01 6.23330000e+00 4.51000000e+00\n",
            " 6.26700000e+00 2.85000000e+00 2.15000000e+00 1.03500000e+01\n",
            " 2.60000000e+00 1.00000000e+00 1.33000000e-01 6.33400000e-01\n",
            " 3.00000000e+00 3.65000000e+00 9.50000000e-01 2.08300000e+00\n",
            " 3.18300000e+00 5.55000000e+00 1.00000000e+00 7.80000000e+00\n",
            " 4.45000000e+00 9.96700000e+00 4.95000000e+00 2.38300000e+00\n",
            " 4.06700000e+00 5.67000000e-01 2.13300000e+00 2.76700000e+00\n",
            " 1.38333300e+00 2.33333330e+00 7.16660000e-01 6.90000000e+00]\n"
          ]
        }
      ]
    },
    {
      "cell_type": "markdown",
      "metadata": {
        "id": "BMKIM-csFqdy"
      },
      "source": [
        "Los valores anteriores son las distancias que hay entre los valores teóricos y experimentales de $Pm_{25}$ en Julio de 2019"
      ]
    },
    {
      "cell_type": "markdown",
      "metadata": {
        "id": "4L06Xgx4F2EW"
      },
      "source": [
        "Graficando los valores anteriores y encontrando su aproximación lineal por medio del método de mínimos cuadrados quedaría:"
      ]
    },
    {
      "cell_type": "code",
      "metadata": {
        "id": "T9N0VtxYUPn4"
      },
      "source": [
        "nv=38\n",
        "n1 = sum(x2)\n",
        "n2 = sum(x1)\n",
        "n3 = sum(x1*x2)\n",
        "n4 = sum(x2**2)\n",
        "\n",
        "n = ((nv*n3)-(n1*n2))/((nv*n4)-(n1)**2) \n",
        "N = ((n2*n4)-(n1*n3))/((nv*n4)-(n1)**2)"
      ],
      "execution_count": 640,
      "outputs": []
    },
    {
      "cell_type": "code",
      "metadata": {
        "id": "yrtc9B4ayRxV"
      },
      "source": [
        "def f(x):\n",
        "  f1=n*x+N\n",
        "  return f1"
      ],
      "execution_count": 641,
      "outputs": []
    },
    {
      "cell_type": "code",
      "metadata": {
        "id": "uClYIBRNzDt6"
      },
      "source": [
        "f = f(x1)"
      ],
      "execution_count": 642,
      "outputs": []
    },
    {
      "cell_type": "code",
      "metadata": {
        "id": "h5Prvn0hFtK1",
        "colab": {
          "base_uri": "https://localhost:8080/",
          "height": 286
        },
        "outputId": "b7a31dd3-1e2a-401c-d913-f2af9c79be81"
      },
      "source": [
        "plt.loglog(x2,'co')\n",
        "plt.loglog(x1,'m*')  \n",
        "plt.loglog(f,'r-')     \n",
        "#grafica de los puntos en noviembre del 2018, los azules son los teoricos y los morados son los expermintales,con su respectiva aproximación lineal.\n"
      ],
      "execution_count": 677,
      "outputs": [
        {
          "output_type": "execute_result",
          "data": {
            "text/plain": [
              "[<matplotlib.lines.Line2D at 0x7f7f1c562050>]"
            ]
          },
          "metadata": {},
          "execution_count": 677
        },
        {
          "output_type": "display_data",
          "data": {
            "image/png": "[encoded data removed]",
            "text/plain": [
              "<Figure size 432x288 with 1 Axes>"
            ]
          },
          "metadata": {
            "needs_background": "light"
          }
        }
      ]
    },
    {
      "cell_type": "code",
      "metadata": {
        "id": "RKxRUl7AVBAh"
      },
      "source": [
        "ni=82\n",
        "i1 = sum(d1)\n",
        "i2 = sum(d2)\n",
        "i3 = sum(d1*d2)\n",
        "i4 = sum(d1**2)\n",
        "\n",
        "i= ((ni*i3)-(i1*i2))/((ni*i4)-(i1**2))\n",
        "I = ((i2*i4)-(i1*i3))/((ni*i4)-(i1)**2)\n",
        "\n",
        "def Y(x):\n",
        "  i0= i*x+I\n",
        "  return i0"
      ],
      "execution_count": 644,
      "outputs": []
    },
    {
      "cell_type": "code",
      "metadata": {
        "id": "AqconVQk0Cdf"
      },
      "source": [
        "xd = Y(d1)"
      ],
      "execution_count": 645,
      "outputs": []
    },
    {
      "cell_type": "code",
      "metadata": {
        "id": "G0LJ6ZpCGK9d",
        "colab": {
          "base_uri": "https://localhost:8080/",
          "height": 286
        },
        "outputId": "7d66a221-6d70-44ea-e50c-d9b7ee571656"
      },
      "source": [
        "plt.loglog(d1,'co')\n",
        "plt.loglog(d2,'m*')\n",
        "plt.loglog(xd,'r-')\n",
        "#grafica de los puntos en Diciembre del 2018, los azules son los teóricos y los morados son los experimentales, con su respectiva aproximación lineal."
      ],
      "execution_count": 679,
      "outputs": [
        {
          "output_type": "execute_result",
          "data": {
            "text/plain": [
              "[<matplotlib.lines.Line2D at 0x7f7f1c265910>]"
            ]
          },
          "metadata": {},
          "execution_count": 679
        },
        {
          "output_type": "display_data",
          "data": {
            "image/png": "[encoded data removed]",
            "text/plain": [
              "<Figure size 432x288 with 1 Axes>"
            ]
          },
          "metadata": {
            "needs_background": "light"
          }
        }
      ]
    },
    {
      "cell_type": "code",
      "metadata": {
        "id": "A-GUi2OMZjEn"
      },
      "source": [
        "nl=98\n",
        "l1 = sum(a1)\n",
        "l2 = sum(a2)\n",
        "l3 = sum(a1*a2)\n",
        "l4 = sum(a1**2)\n",
        "\n",
        "l= ((nl*l3)-(l1*l2))/((nl*l4)-((l1)**2))\n",
        "L = ((l2*l4)-(l1*l3))/((nl*l4)-((l1)**2))\n",
        "\n",
        "def A(x):\n",
        "  A1 = l*x+L\n",
        "  return(A1)\n",
        "\n",
        "A= A(a1)"
      ],
      "execution_count": 647,
      "outputs": []
    },
    {
      "cell_type": "code",
      "metadata": {
        "id": "ianaHxj9HiQn",
        "colab": {
          "base_uri": "https://localhost:8080/",
          "height": 286
        },
        "outputId": "2c606377-cf53-4506-9727-8d53e401e42f"
      },
      "source": [
        "plt.loglog(a1,'co')\n",
        "plt.loglog(a2,'m*')\n",
        "plt.loglog(A,'r--')\n",
        "#grafica de los puntos en Abril del 2019, los azules son los teóricos y los morados son los experimentales, con su respectiva aproximacion lineal."
      ],
      "execution_count": 648,
      "outputs": [
        {
          "output_type": "execute_result",
          "data": {
            "text/plain": [
              "[<matplotlib.lines.Line2D at 0x7f7f1d01cb50>]"
            ]
          },
          "metadata": {},
          "execution_count": 648
        },
        {
          "output_type": "display_data",
          "data": {
            "image/png": "[encoded data removed]",
            "text/plain": [
              "<Figure size 432x288 with 1 Axes>"
            ]
          },
          "metadata": {
            "needs_background": "light"
          }
        }
      ]
    },
    {
      "cell_type": "code",
      "metadata": {
        "id": "5F9ixUMKb8zT"
      },
      "source": [
        "nu=174\n",
        "u1 = sum(j1)\n",
        "u2= sum(j2)\n",
        "u3 = sum(j1*j2)\n",
        "u4 = sum(j1**2)\n",
        "\n",
        "u = ((nu*u3)-(n1*n2))/((nu*n4)-(n1)**2)\n",
        "U = ((n2*n4)-(n1*n3))/((nu*n4)-(n1)**2)\n",
        "\n",
        "def o(x):\n",
        "  o1 = u*x+U\n",
        "  return o1\n",
        "\n",
        "o = o(j1)"
      ],
      "execution_count": 649,
      "outputs": []
    },
    {
      "cell_type": "code",
      "metadata": {
        "id": "A3FXD1S2IOU7",
        "colab": {
          "base_uri": "https://localhost:8080/",
          "height": 286
        },
        "outputId": "b0ea51c7-9882-4fdc-e85d-00730578794f"
      },
      "source": [
        "plt.loglog(j1,'co')\n",
        "plt.loglog(j2,'m*')\n",
        "plt.loglog(o,'r--')\n",
        "#grafica de los puntos en Junio del 2019, los azules son teóricos y los morados son los experimentales con su respectiva aproximacion lineal."
      ],
      "execution_count": 678,
      "outputs": [
        {
          "output_type": "execute_result",
          "data": {
            "text/plain": [
              "[<matplotlib.lines.Line2D at 0x7f7f1c3db450>]"
            ]
          },
          "metadata": {},
          "execution_count": 678
        },
        {
          "output_type": "display_data",
          "data": {
            "image/png": "[encoded data removed]",
            "text/plain": [
              "<Figure size 432x288 with 1 Axes>"
            ]
          },
          "metadata": {
            "needs_background": "light"
          }
        }
      ]
    },
    {
      "cell_type": "code",
      "metadata": {
        "id": "_vvCm2ql_x_G"
      },
      "source": [
        "nh = 185\n",
        "h1 = sum(jl1)\n",
        "h2 = sum(jl2)\n",
        "h3 = sum(jl1*jl2)\n",
        "h4 = sum(jl1**2)\n",
        "\n",
        "h= ((nh*h3)-(h1*h2))/((nh*h4)-(h1)**2)\n",
        "H= ((h2*h4)-(h1*h3))/((nh*h4)-(h1)**2)\n",
        "\n",
        "def g(x):\n",
        "  g1 = h*x+H\n",
        "  return g1\n",
        "\n",
        "G=g(jl1)"
      ],
      "execution_count": 651,
      "outputs": []
    },
    {
      "cell_type": "code",
      "metadata": {
        "colab": {
          "base_uri": "https://localhost:8080/",
          "height": 282
        },
        "id": "xuRbRsd9RgI4",
        "outputId": "832e6a24-9839-440a-d3af-93863fc0ea64"
      },
      "source": [
        "plt.plot(jl1,'co')\n",
        "plt.plot(jl2,'m*')\n",
        "plt.plot(G,'r-')\n",
        "#grafica de los puntos en Julio del 2019, los azules son losteóricos y los morados son los experimentales, con su respectiva aproximacion lineal."
      ],
      "execution_count": 652,
      "outputs": [
        {
          "output_type": "execute_result",
          "data": {
            "text/plain": [
              "[<matplotlib.lines.Line2D at 0x7f7f1cc82350>]"
            ]
          },
          "metadata": {},
          "execution_count": 652
        },
        {
          "output_type": "display_data",
          "data": {
            "image/png": "[encoded data removed]",
            "text/plain": [
              "<Figure size 432x288 with 1 Axes>"
            ]
          },
          "metadata": {
            "needs_background": "light"
          }
        }
      ]
    }
  ]
}